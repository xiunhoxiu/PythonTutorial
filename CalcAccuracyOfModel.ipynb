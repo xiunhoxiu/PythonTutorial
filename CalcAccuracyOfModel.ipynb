{
 "cells": [
  {
   "cell_type": "code",
   "execution_count": 134,
   "id": "2d61cbbc",
   "metadata": {},
   "outputs": [
    {
     "data": {
      "text/plain": [
       "1.0"
      ]
     },
     "execution_count": 134,
     "metadata": {},
     "output_type": "execute_result"
    }
   ],
   "source": [
    "import pandas as pd\n",
    "from sklearn.tree import DecisionTreeClassifier\n",
    "from sklearn.model_selection import train_test_split\n",
    "from sklearn.metrics import accuracy_score\n",
    "music_data = pd.read_csv('music.csv')\n",
    "music_data\n",
    "\n",
    "X = music_data.drop(columns=['genre'])\n",
    "# input data set\n",
    "X\n",
    "\n",
    "y = music_data['genre'] \n",
    "# output data set\n",
    "y\n",
    "\n",
    "X_train, X_test, y_train, y_test = train_test_split(X, y, test_size=0.2)\n",
    "# keyword argument: specifies the size of the test dataset \n",
    "# 0.2: allocating 20 % of the data for testing.\n",
    "# 0.8: allocating 80 % of the data for training\n",
    "# this function returns a tuple - unpack 4 variables\n",
    "\n",
    "# Create a new instance of the class DecisionTreeClassifier\n",
    "model = DecisionTreeClassifier()\n",
    "\n",
    "# This model takes two datasets: The input and output set.\n",
    "model.fit(X_train,y_train)\n",
    "predictions = model.predict(X_test)\n",
    "\n",
    "score = accuracy_score(y_test, predictions)\n",
    "score"
   ]
  },
  {
   "cell_type": "code",
   "execution_count": null,
   "id": "6763571c",
   "metadata": {},
   "outputs": [],
   "source": [
    "# Allocating 20 % for testing: score is between 0.5-1\n",
    "# Allocating 80 % for training: score is between 0.1-0.5\n",
    "# The reason:\n",
    "# we are using very little data for training and testing this model\n",
    "# the more data inputs and the cleaner the better."
   ]
  }
 ],
 "metadata": {
  "kernelspec": {
   "display_name": "Python 3 (ipykernel)",
   "language": "python",
   "name": "python3"
  },
  "language_info": {
   "codemirror_mode": {
    "name": "ipython",
    "version": 3
   },
   "file_extension": ".py",
   "mimetype": "text/x-python",
   "name": "python",
   "nbconvert_exporter": "python",
   "pygments_lexer": "ipython3",
   "version": "3.9.7"
  }
 },
 "nbformat": 4,
 "nbformat_minor": 5
}
